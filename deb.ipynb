{
 "cells": [
  {
   "cell_type": "code",
   "execution_count": 1,
   "id": "1b71fadf-e41a-4d64-916b-2bade5f3f5e4",
   "metadata": {},
   "outputs": [
    {
     "name": "stdout",
     "output_type": "stream",
     "text": [
      "['gpt-4o-2024-11-20', 'gpt-4o-mini-audio-preview-2024-12-17', 'dall-e-3', 'dall-e-2', 'gpt-4o-audio-preview-2024-10-01', 'gpt-4o-audio-preview', 'gpt-4o-mini-realtime-preview-2024-12-17', 'gpt-4o-mini-realtime-preview', 'o1-mini-2024-09-12', 'o1-mini', 'omni-moderation-latest', 'gpt-4o-mini', 'gpt-4o-mini-audio-preview', 'omni-moderation-2024-09-26', 'gpt-4o-realtime-preview-2024-10-01', 'babbage-002', 'tts-1-hd-1106', 'text-embedding-3-large', 'gpt-4o-audio-preview-2024-12-17', 'gpt-4', 'gpt-4o-2024-05-13', 'tts-1-hd', 'o1-preview', 'o1-preview-2024-09-12', 'o3-mini', 'o3-mini-2025-01-31', 'gpt-3.5-turbo-instruct-0914', 'gpt-4o-mini-search-preview', 'tts-1-1106', 'davinci-002', 'gpt-3.5-turbo-1106', 'gpt-4o-search-preview', 'gpt-4-turbo', 'gpt-3.5-turbo-instruct', 'gpt-4o-mini-search-preview-2025-03-11', 'o1-2024-12-17', 'o1', 'gpt-3.5-turbo-0125', 'gpt-4o-2024-08-06', 'gpt-4o-realtime-preview-2024-12-17', 'gpt-3.5-turbo', 'gpt-4-turbo-2024-04-09', 'gpt-4o-realtime-preview', 'gpt-3.5-turbo-16k', 'gpt-4o', 'text-embedding-3-small', 'chatgpt-4o-latest', 'gpt-4-1106-preview', 'text-embedding-ada-002', 'gpt-4-0613', 'gpt-4.5-preview', 'gpt-4.5-preview-2025-02-27', 'gpt-4o-search-preview-2025-03-11', 'tts-1', 'gpt-4-0125-preview', 'gpt-4-turbo-preview', 'gpt-4o-mini-2024-07-18', 'whisper-1']\n"
     ]
    }
   ],
   "source": [
    "import openai\n",
    "\n",
    "openai.api_key = 'sk-proj-111'\n",
    "\n",
    "\n",
    "models = openai.models.list()\n",
    "print([model.id for model in models.data])"
   ]
  },
  {
   "cell_type": "code",
   "execution_count": null,
   "id": "556f4db2-5ebf-4288-9d4a-b4293fa6cad3",
   "metadata": {},
   "outputs": [],
   "source": [
    "['gpt-4o-2024-11-20', 'gpt-4o-mini-audio-preview-2024-12-17', 'dall-e-3', 'dall-e-2', 'gpt-4o-audio-preview-2024-10-01', 'gpt-4o-audio-preview', 'gpt-4o-mini-realtime-preview-2024-12-17', 'gpt-4o-mini-realtime-preview', 'o1-mini-2024-09-12', 'o1-mini', 'omni-moderation-latest', 'gpt-4o-mini', 'gpt-4o-mini-audio-preview', 'omni-moderation-2024-09-26', 'gpt-4o-realtime-preview-2024-10-01', 'babbage-002', 'tts-1-hd-1106', 'text-embedding-3-large', 'gpt-4o-audio-preview-2024-12-17', 'gpt-4', 'gpt-4o-2024-05-13', 'tts-1-hd', 'o1-preview', 'o1-preview-2024-09-12', 'o3-mini', 'o3-mini-2025-01-31', 'gpt-3.5-turbo-instruct-0914', 'gpt-4o-mini-search-preview', 'tts-1-1106', 'davinci-002', 'gpt-3.5-turbo-1106', 'gpt-4o-search-preview', 'gpt-4-turbo', 'gpt-3.5-turbo-instruct', 'gpt-4o-mini-search-preview-2025-03-11', 'o1-2024-12-17', 'o1', 'gpt-3.5-turbo-0125', 'gpt-4o-2024-08-06', 'gpt-4o-realtime-preview-2024-12-17', 'gpt-3.5-turbo', 'gpt-4-turbo-2024-04-09', 'gpt-4o-realtime-preview', 'gpt-3.5-turbo-16k', 'gpt-4o', 'text-embedding-3-small', 'chatgpt-4o-latest', 'gpt-4-1106-preview', 'text-embedding-ada-002', 'gpt-4-0613', 'gpt-4.5-preview', 'gpt-4.5-preview-2025-02-27', 'gpt-4o-search-preview-2025-03-11', 'tts-1', 'gpt-4-0125-preview', 'gpt-4-turbo-preview', 'gpt-4o-mini-2024-07-18', 'whisper-1']"
   ]
  },
  {
   "cell_type": "code",
   "execution_count": 2,
   "id": "280baba8-da44-4b72-a52a-3af0a471735e",
   "metadata": {},
   "outputs": [],
   "source": [
    "from pathlib import Path"
   ]
  },
  {
   "cell_type": "code",
   "execution_count": 3,
   "id": "e4b19620-1dc8-43a2-a24b-7b3375e5cb53",
   "metadata": {},
   "outputs": [
    {
     "data": {
      "text/plain": [
       "'C:\\\\Users\\\\vorsi'"
      ]
     },
     "execution_count": 3,
     "metadata": {},
     "output_type": "execute_result"
    }
   ],
   "source": [
    "str(Path.home())"
   ]
  },
  {
   "cell_type": "code",
   "execution_count": 4,
   "id": "339da3d9-0bc9-427c-bae6-da0f96c7c251",
   "metadata": {},
   "outputs": [
    {
     "data": {
      "text/plain": [
       "WindowsPath('E:/DS/interview_coach')"
      ]
     },
     "execution_count": 4,
     "metadata": {},
     "output_type": "execute_result"
    }
   ],
   "source": [
    "Path.cwd() "
   ]
  },
  {
   "cell_type": "code",
   "execution_count": null,
   "id": "06daafe0-5e97-4925-9d51-11bdaa0eeb7d",
   "metadata": {},
   "outputs": [],
   "source": []
  }
 ],
 "metadata": {
  "kernelspec": {
   "display_name": "Python 3 (ipykernel)",
   "language": "python",
   "name": "python3"
  },
  "language_info": {
   "codemirror_mode": {
    "name": "ipython",
    "version": 3
   },
   "file_extension": ".py",
   "mimetype": "text/x-python",
   "name": "python",
   "nbconvert_exporter": "python",
   "pygments_lexer": "ipython3",
   "version": "3.10.16"
  }
 },
 "nbformat": 4,
 "nbformat_minor": 5
}
